{
 "cells": [
  {
   "cell_type": "code",
   "execution_count": 1,
   "id": "86b3de21",
   "metadata": {},
   "outputs": [],
   "source": [
    "import scanpy as sc"
   ]
  },
  {
   "cell_type": "code",
   "execution_count": 2,
   "id": "f2704667",
   "metadata": {},
   "outputs": [],
   "source": [
    "import matplotlib.pyplot as plt"
   ]
  },
  {
   "cell_type": "code",
   "execution_count": 3,
   "id": "c4fb9caf",
   "metadata": {},
   "outputs": [],
   "source": [
    "import pandas as pd"
   ]
  },
  {
   "cell_type": "code",
   "execution_count": 4,
   "id": "b487baa1",
   "metadata": {},
   "outputs": [],
   "source": [
    "import seaborn as sns"
   ]
  },
  {
   "cell_type": "code",
   "execution_count": 5,
   "id": "989bfb91",
   "metadata": {},
   "outputs": [],
   "source": [
    "h5ad_file = 'zenodo/SS3xpress_PBMC_donor4_and_donor7.h5ad'"
   ]
  },
  {
   "cell_type": "code",
   "execution_count": 6,
   "id": "6aca5dd0",
   "metadata": {},
   "outputs": [],
   "source": [
    "adata = sc.read_h5ad(h5ad_file)"
   ]
  },
  {
   "cell_type": "code",
   "execution_count": 7,
   "id": "6ce73bad",
   "metadata": {},
   "outputs": [
    {
     "data": {
      "text/html": [
       "<div>\n",
       "<style scoped>\n",
       "    .dataframe tbody tr th:only-of-type {\n",
       "        vertical-align: middle;\n",
       "    }\n",
       "\n",
       "    .dataframe tbody tr th {\n",
       "        vertical-align: top;\n",
       "    }\n",
       "\n",
       "    .dataframe thead th {\n",
       "        text-align: right;\n",
       "    }\n",
       "</style>\n",
       "<table border=\"1\" class=\"dataframe\">\n",
       "  <thead>\n",
       "    <tr style=\"text-align: right;\">\n",
       "      <th></th>\n",
       "      <th>nCount_RNA</th>\n",
       "      <th>nFeature_RNA</th>\n",
       "      <th>percent.mt</th>\n",
       "      <th>integrated_snn_res.0.8</th>\n",
       "      <th>seurat_clusters</th>\n",
       "      <th>cell_annotation</th>\n",
       "    </tr>\n",
       "    <tr>\n",
       "      <th>orig.ident</th>\n",
       "      <th></th>\n",
       "      <th></th>\n",
       "      <th></th>\n",
       "      <th></th>\n",
       "      <th></th>\n",
       "      <th></th>\n",
       "    </tr>\n",
       "  </thead>\n",
       "  <tbody>\n",
       "    <tr>\n",
       "      <th>donor4</th>\n",
       "      <td>3820</td>\n",
       "      <td>3820</td>\n",
       "      <td>3820</td>\n",
       "      <td>3820</td>\n",
       "      <td>3820</td>\n",
       "      <td>3820</td>\n",
       "    </tr>\n",
       "    <tr>\n",
       "      <th>donor7</th>\n",
       "      <td>3017</td>\n",
       "      <td>3017</td>\n",
       "      <td>3017</td>\n",
       "      <td>3017</td>\n",
       "      <td>3017</td>\n",
       "      <td>3017</td>\n",
       "    </tr>\n",
       "  </tbody>\n",
       "</table>\n",
       "</div>"
      ],
      "text/plain": [
       "            nCount_RNA  nFeature_RNA  percent.mt  integrated_snn_res.0.8  \\\n",
       "orig.ident                                                                 \n",
       "donor4            3820          3820        3820                    3820   \n",
       "donor7            3017          3017        3017                    3017   \n",
       "\n",
       "            seurat_clusters  cell_annotation  \n",
       "orig.ident                                    \n",
       "donor4                 3820             3820  \n",
       "donor7                 3017             3017  "
      ]
     },
     "execution_count": 7,
     "metadata": {},
     "output_type": "execute_result"
    }
   ],
   "source": [
    "adata.obs.groupby('orig.ident').count()"
   ]
  },
  {
   "cell_type": "code",
   "execution_count": 9,
   "id": "cf5c118d",
   "metadata": {},
   "outputs": [],
   "source": [
    "XCI_file_donor7 = 'data/PBMC_donor7/vireo_out/donor_ids.tsv'\n",
    "\n",
    "XCI_file_donor4 = 'data/PBMC_donor4/vireo_out/donor_ids.tsv'\n",
    "\n",
    "XCI_donor7_df = pd.read_csv(XCI_file_donor7, sep='\\t', index_col=0)\n",
    "\n",
    "XCI_donor4_df = pd.read_csv(XCI_file_donor4, sep='\\t', index_col=0)"
   ]
  },
  {
   "cell_type": "code",
   "execution_count": 10,
   "id": "8b009f0e",
   "metadata": {},
   "outputs": [],
   "source": [
    "XCI_donor7_df.index = [cell+'_6' for cell in XCI_donor7_df.index]\n",
    "XCI_donor4_df.index = [cell+'_4' for cell in XCI_donor4_df.index]"
   ]
  },
  {
   "cell_type": "code",
   "execution_count": 12,
   "id": "b49bdab3",
   "metadata": {},
   "outputs": [],
   "source": [
    "XCI_both_df = XCI_donor4_df.append(XCI_donor7_df)"
   ]
  },
  {
   "cell_type": "code",
   "execution_count": 13,
   "id": "322240dd",
   "metadata": {},
   "outputs": [],
   "source": [
    "adata.obs = adata.obs.join(XCI_both_df['donor_id'])"
   ]
  },
  {
   "cell_type": "code",
   "execution_count": 14,
   "id": "d793ea85",
   "metadata": {},
   "outputs": [],
   "source": [
    "XCI_count_per_donor = adata.obs.groupby('orig.ident').apply(lambda df: df.groupby('donor_id').count())['cell_annotation'].reset_index()"
   ]
  },
  {
   "cell_type": "code",
   "execution_count": 15,
   "id": "ec9f05b3",
   "metadata": {},
   "outputs": [],
   "source": [
    "XCI_count_per_donor.columns = ['Donor', 'XCI', 'Count']"
   ]
  },
  {
   "cell_type": "code",
   "execution_count": 16,
   "id": "e1f0c390",
   "metadata": {},
   "outputs": [
    {
     "data": {
      "text/html": [
       "<div>\n",
       "<style scoped>\n",
       "    .dataframe tbody tr th:only-of-type {\n",
       "        vertical-align: middle;\n",
       "    }\n",
       "\n",
       "    .dataframe tbody tr th {\n",
       "        vertical-align: top;\n",
       "    }\n",
       "\n",
       "    .dataframe thead th {\n",
       "        text-align: right;\n",
       "    }\n",
       "</style>\n",
       "<table border=\"1\" class=\"dataframe\">\n",
       "  <thead>\n",
       "    <tr style=\"text-align: right;\">\n",
       "      <th></th>\n",
       "      <th>Count</th>\n",
       "    </tr>\n",
       "    <tr>\n",
       "      <th>Donor</th>\n",
       "      <th></th>\n",
       "    </tr>\n",
       "  </thead>\n",
       "  <tbody>\n",
       "    <tr>\n",
       "      <th>donor4</th>\n",
       "      <td>3820</td>\n",
       "    </tr>\n",
       "    <tr>\n",
       "      <th>donor7</th>\n",
       "      <td>3017</td>\n",
       "    </tr>\n",
       "  </tbody>\n",
       "</table>\n",
       "</div>"
      ],
      "text/plain": [
       "        Count\n",
       "Donor        \n",
       "donor4   3820\n",
       "donor7   3017"
      ]
     },
     "execution_count": 16,
     "metadata": {},
     "output_type": "execute_result"
    }
   ],
   "source": [
    "XCI_count_per_donor.groupby('Donor').sum()"
   ]
  },
  {
   "cell_type": "code",
   "execution_count": 18,
   "id": "b2f48b2e",
   "metadata": {},
   "outputs": [],
   "source": [
    "XCI_count_per_cell_type = adata.obs.groupby('orig.ident').apply(lambda df: df.groupby('donor_id').apply(lambda df2: df2.groupby('cell_annotation').count()))[['seurat_clusters']].reset_index()"
   ]
  },
  {
   "cell_type": "code",
   "execution_count": 21,
   "id": "90de5b46",
   "metadata": {},
   "outputs": [],
   "source": [
    "adata_donor7 = adata[adata.obs['orig.ident'] == 'donor7']"
   ]
  },
  {
   "cell_type": "code",
   "execution_count": 22,
   "id": "77e037d3",
   "metadata": {},
   "outputs": [
    {
     "name": "stderr",
     "output_type": "stream",
     "text": [
      "/home/nbserver/anaconda3/lib/python3.7/site-packages/anndata/_core/anndata.py:873: FutureWarning: X.dtype being converted to np.float32 from float64. In the next version of anndata (0.9) conversion will not be automatic. Pass dtype explicitly to avoid this warning. Pass `AnnData(X, dtype=X.dtype, ...)` to get the future behavour.\n",
      "  self._set_dim_index(names, \"obs\")\n"
     ]
    }
   ],
   "source": [
    "adata_donor7.obs_names = [cell.split('_')[0] for cell in adata_donor7.obs_names]"
   ]
  },
  {
   "cell_type": "code",
   "execution_count": 24,
   "id": "ed82e38d",
   "metadata": {},
   "outputs": [],
   "source": [
    "import cospar as cs"
   ]
  },
  {
   "cell_type": "code",
   "execution_count": 26,
   "id": "8a1cc031",
   "metadata": {},
   "outputs": [],
   "source": [
    "mutation_call_df = pd.read_csv('data/PBMC_donor7/Donor7_clonal_mt_mutations.csv', index_col=0)"
   ]
  },
  {
   "cell_type": "code",
   "execution_count": 25,
   "id": "3d077919",
   "metadata": {},
   "outputs": [],
   "source": [
    "mutation_call_bad_muts_df = pd.read_csv('data/PBMC_donor7/mut_calling_bad_muts_all_under_500.csv', index_col=0)"
   ]
  },
  {
   "cell_type": "code",
   "execution_count": 27,
   "id": "cfa01d79",
   "metadata": {},
   "outputs": [],
   "source": [
    "mutation_call_df = mutation_call_df.reindex(adata_donor7.obs.index).dropna()"
   ]
  },
  {
   "cell_type": "code",
   "execution_count": 29,
   "id": "4decb935",
   "metadata": {},
   "outputs": [],
   "source": [
    "mutation_call_bad_muts_df = mutation_call_bad_muts_df.reindex(adata_donor7.obs.index).dropna()"
   ]
  },
  {
   "cell_type": "code",
   "execution_count": 32,
   "id": "0b791f8f",
   "metadata": {},
   "outputs": [],
   "source": [
    "mutation_call_df = mutation_call_df.join(mutation_call_bad_muts_df)"
   ]
  },
  {
   "cell_type": "code",
   "execution_count": 86,
   "id": "2de04a56",
   "metadata": {},
   "outputs": [
    {
     "data": {
      "text/plain": [
       "334"
      ]
     },
     "execution_count": 86,
     "metadata": {},
     "output_type": "execute_result"
    }
   ],
   "source": [
    "(mutation_call_df.sum() > 1).sum()"
   ]
  },
  {
   "cell_type": "code",
   "execution_count": 39,
   "id": "49d2f078",
   "metadata": {},
   "outputs": [],
   "source": [
    "mutation_call_df = mutation_call_df.fillna(False)"
   ]
  },
  {
   "cell_type": "code",
   "execution_count": 33,
   "id": "d03e7a78",
   "metadata": {},
   "outputs": [],
   "source": [
    "adata_donor7.obs['time_info'] = 'Now'"
   ]
  },
  {
   "cell_type": "code",
   "execution_count": 34,
   "id": "6eb5327f",
   "metadata": {},
   "outputs": [
    {
     "name": "stdout",
     "output_type": "stream",
     "text": [
      "WARNING: X_pca not provided. Downstream processing is needed to generate X_pca before computing the transition map.\n",
      "WARNING: state_info not provided. Downstream processing is needed before analyzing the transition map.\n",
      "WARNING: Use X_umap as the default embedding\n",
      "Time points with clonal info: []\n",
      "WARNING: Default ascending order of time points are: ['Now']. If not correct, run cs.hf.update_time_ordering for correction.\n",
      "WARNING: Please make sure that the count matrix adata.X is NOT log-transformed.\n"
     ]
    }
   ],
   "source": [
    "adata_cospar = cs.pp.initialize_adata_object(\n",
    "    adata=adata_donor7,\n",
    "    time_info=adata_donor7.obs['time_info']\n",
    ")"
   ]
  },
  {
   "cell_type": "code",
   "execution_count": 40,
   "id": "40ecc687",
   "metadata": {},
   "outputs": [],
   "source": [
    "mut_clone_df = pd.DataFrame()\n",
    "for mut, mut_col in mutation_call_df.iteritems():\n",
    "    bla_df = pd.DataFrame(mut_col.index[mut_col])\n",
    "    bla_df.columns = ['Cell_ID']\n",
    "    bla_df['Cell_ID'] = ['_'.join(cell.split('_')[::-1]) for cell in bla_df['Cell_ID']]\n",
    "    bla_df['Clone_ID'] = mut\n",
    "    mut_clone_df = mut_clone_df.append(bla_df)"
   ]
  },
  {
   "cell_type": "code",
   "execution_count": 47,
   "id": "25caa939",
   "metadata": {},
   "outputs": [
    {
     "name": "stderr",
     "output_type": "stream",
     "text": [
      "100%|██████████| 1848/1848 [00:00<00:00, 13528.83it/s]\n"
     ]
    }
   ],
   "source": [
    "cs.pp.get_X_clone(adata_cospar, mut_clone_df[\"Cell_ID\"], mut_clone_df[\"Clone_ID\"])"
   ]
  },
  {
   "cell_type": "code",
   "execution_count": 48,
   "id": "0f51491d",
   "metadata": {},
   "outputs": [],
   "source": [
    "adata_cospar.obs['state_info'] = adata_cospar.obs['cell_annotation']"
   ]
  },
  {
   "cell_type": "code",
   "execution_count": 49,
   "id": "5de43e3c",
   "metadata": {},
   "outputs": [],
   "source": [
    "mut_count_series = mut_clone_df.groupby('Cell_ID').count()['Clone_ID']\n",
    "mut_count_series.name = 'Mutation Count'"
   ]
  },
  {
   "cell_type": "code",
   "execution_count": 53,
   "id": "b618707a",
   "metadata": {
    "scrolled": true
   },
   "outputs": [],
   "source": [
    "adata_cospar.obs = adata_cospar.obs.drop('Mutation Count',axis=1)"
   ]
  },
  {
   "cell_type": "code",
   "execution_count": 54,
   "id": "de6b84f3",
   "metadata": {
    "scrolled": true
   },
   "outputs": [],
   "source": [
    "adata_cospar.obs = adata_cospar.obs.join(mut_count_series)"
   ]
  },
  {
   "cell_type": "code",
   "execution_count": 55,
   "id": "7620aa46",
   "metadata": {},
   "outputs": [],
   "source": [
    "import numpy as np"
   ]
  },
  {
   "cell_type": "code",
   "execution_count": 56,
   "id": "9de692c5",
   "metadata": {},
   "outputs": [],
   "source": [
    "adata_cospar.obs['Mutation Count'] = adata_cospar.obs.apply(lambda row: 0 if np.isnan(row['Mutation Count']) else row['Mutation Count'], axis=1)\n",
    "\n",
    "adata_cospar.obs['Any Mutation'] = adata_cospar.obs['Mutation Count'] > 0\n",
    "\n",
    "adata_cospar.obs['Any Mutation Color'] = adata_cospar.obs.apply(lambda row: 'Mutation present' if row['Any Mutation'] else np.nan, axis=1)"
   ]
  },
  {
   "cell_type": "code",
   "execution_count": null,
   "id": "e195fbf8",
   "metadata": {},
   "outputs": [],
   "source": [
    "import scanpy as sc"
   ]
  },
  {
   "cell_type": "code",
   "execution_count": 92,
   "id": "51991833",
   "metadata": {},
   "outputs": [],
   "source": [
    "adata_cospar.obs['state_info'] = adata_cospar.obs['cell_annotation']"
   ]
  },
  {
   "cell_type": "code",
   "execution_count": 93,
   "id": "8d73b49d",
   "metadata": {},
   "outputs": [
    {
     "name": "stdout",
     "output_type": "stream",
     "text": [
      "Results saved as dictionary at adata.uns['fate_coupling_X_clone']\n"
     ]
    }
   ],
   "source": [
    "cs.tl.fate_coupling(\n",
    "    adata_cospar, selected_fates=['gdT_2',\n",
    " 'Naive CD4+ T',\n",
    " 'Naive/CM CD4+ T_1',\n",
    " 'Clonal CD4+ T',\n",
    " 'CD4+ TCM/TEM',\n",
    " 'Naive/CM CD4+ T_2',\n",
    " 'gdT_1',\n",
    " 'CD8+ TEM/CD4+ CTL',\n",
    " 'Tregs',\n",
    " 'Naive CD8+ T',\n",
    " 'Naive/CM CD4/CD8+ T',\n",
    " 'Clonal CD8+ T',\n",
    " 'CD8+ TCM/TEM'], source=\"X_clone\")  # compute the fate coupling"
   ]
  },
  {
   "cell_type": "code",
   "execution_count": 94,
   "id": "8ab8d030",
   "metadata": {},
   "outputs": [],
   "source": [
    "fate_to_idx = {k:i for i, k in enumerate(adata_cospar.uns['fate_coupling_X_clone']['fate_names'])}"
   ]
  },
  {
   "cell_type": "code",
   "execution_count": 97,
   "id": "017172c7",
   "metadata": {},
   "outputs": [],
   "source": [
    "order = ['Clonal CD4+ T','Naive/CM CD4+ T_1','Clonal CD8+ T','Tregs','Naive CD4+ T', 'CD4+ TCM/TEM',\n",
    " 'CD8+ TEM/CD4+ CTL','Naive/CM CD4+ T_2','CD8+ TCM/TEM','Naive CD8+ T',  'Naive/CM CD4/CD8+ T','gdT_1', 'gdT_2'\n",
    "        ]\n",
    "order_idx = [fate_to_idx[o] for o in order]"
   ]
  },
  {
   "cell_type": "code",
   "execution_count": 87,
   "id": "bf3255ae",
   "metadata": {},
   "outputs": [],
   "source": [
    "def heatmap(\n",
    "    data_matrix,\n",
    "    order_map_x=True,\n",
    "    order_map_y=True,\n",
    "    specific_order = [],\n",
    "    x_ticks=None,\n",
    "    y_ticks=None,\n",
    "    col_range=[0, 99],\n",
    "    color_bar_label=\"\",\n",
    "    log_transform=False,\n",
    "    color_map=plt.cm.Reds,\n",
    "    vmin=None,\n",
    "    vmax=None,\n",
    "    fig_width=4,\n",
    "    fig_height=6,\n",
    "    color_bar=True,\n",
    "    x_label=None,\n",
    "    y_label=None,\n",
    "    print_ordered_labels=False,\n",
    "    pseudo_count=10 ** (-10),\n",
    "    ax=None,\n",
    "):\n",
    "    \"\"\"\n",
    "    Plot ordered heat map of non-square data_matrix matrix\n",
    "    Parameters\n",
    "    ----------\n",
    "    data_matrix: `np.array`\n",
    "        The data matrix to be plotted\n",
    "    order_map_x: `bool`\n",
    "        Whether to re-order the x coordinate of the matrix or not\n",
    "    order_map_y: `bool`\n",
    "        Whether to re-order the y coordinate of the matrix or not\n",
    "    x_ticks, y_ticks: `list`\n",
    "        List of variable names for x and y ticks\n",
    "    color_bar_label: `str`, optional (default: 'cov')\n",
    "        Color bar label\n",
    "    data_des: `str`, optional (default: '')\n",
    "        String to distinguish different saved objects.\n",
    "    log_transform: `bool`, optional (default: False)\n",
    "        If true, perform a log transform. This is needed when the data\n",
    "        matrix has entries varying by several order of magnitude.\n",
    "    col_range: `tuple`, optional (default: None)\n",
    "        The default setting is to plot the actual value of the vector.\n",
    "        If col_range is set within [0,100], it will plot the percentile of the values,\n",
    "        and the color_bar will show range [0,1]. This re-scaling is useful for\n",
    "        visualizing gene expression.\n",
    "    Returns\n",
    "    ax,\n",
    "    order_x,\n",
    "        An integer index for ordered x axis\n",
    "    order_y,\n",
    "        An integer index for ordered y axis\n",
    "    \"\"\"\n",
    "\n",
    "    from matplotlib.colors import Normalize as mpl_Normalize\n",
    "\n",
    "    x_array = np.arange(data_matrix.shape[1])\n",
    "    y_array = np.arange(data_matrix.shape[0])\n",
    "    if order_map_x and (data_matrix.shape[1] > 2):\n",
    "        if data_matrix.shape[0] != data_matrix.shape[1]:\n",
    "            X = tl.get_normalized_covariance(data_matrix + pseudo_count, method=\"SW\")\n",
    "            Z = hierarchy.ward(X)\n",
    "            order_x = hierarchy.leaves_list(hierarchy.optimal_leaf_ordering(Z, X))\n",
    "        else:\n",
    "            Z = hierarchy.ward(data_matrix + pseudo_count)\n",
    "            order_x = hierarchy.leaves_list(\n",
    "                hierarchy.optimal_leaf_ordering(Z, data_matrix + pseudo_count)\n",
    "            )\n",
    "    elif len(specific_order) > 0:\n",
    "        order_x = specific_order\n",
    "    else:\n",
    "        order_x = x_array\n",
    "\n",
    "    if order_map_y and (data_matrix.shape[0] > 2):\n",
    "        if data_matrix.shape[0] != data_matrix.shape[1]:\n",
    "            order_y = hf.get_hierch_order(data_matrix + pseudo_count)\n",
    "        else:\n",
    "            Z = hierarchy.ward(data_matrix + pseudo_count)\n",
    "            order_y = hierarchy.leaves_list(\n",
    "                hierarchy.optimal_leaf_ordering(Z, data_matrix + pseudo_count)\n",
    "            )\n",
    "    elif len(specific_order) > 0:\n",
    "        order_y = specific_order\n",
    "    else:\n",
    "        order_y = y_array\n",
    "\n",
    "    if log_transform:\n",
    "        new_data = np.log(data_matrix[order_y][:, order_x] + 1) / np.log(10)\n",
    "        label_ = \" (log10)\"\n",
    "    else:\n",
    "        new_data = data_matrix[order_y][:, order_x]\n",
    "        label_ = \"\"\n",
    "\n",
    "    col_data = new_data.flatten()\n",
    "    if vmin is None:\n",
    "        if col_range is None:\n",
    "            vmin = np.min(col_data)\n",
    "        else:\n",
    "            vmin = np.percentile(col_data, col_range[0])\n",
    "\n",
    "    if vmax is None:\n",
    "        if col_range is None:\n",
    "            vmax = np.max(col_data)\n",
    "        else:\n",
    "            vmax = np.percentile(col_data, col_range[1])\n",
    "            if (vmax == 0) & (np.max(col_data) >= 1):\n",
    "                vmax = 1\n",
    "            if (vmax == 0) & (np.max(col_data) <= 1):\n",
    "                vmax = np.max(col_data)\n",
    "\n",
    "    if ax is None:\n",
    "        fig, ax = plt.subplots()\n",
    "        ax_=None\n",
    "    else:\n",
    "        ax_=ax\n",
    "    ax.imshow(\n",
    "        new_data,\n",
    "        aspect=\"auto\",\n",
    "        cmap=color_map,\n",
    "        vmin=vmin,\n",
    "        vmax=vmax,\n",
    "        interpolation=\"none\",\n",
    "    )\n",
    "\n",
    "    if x_ticks is None:\n",
    "        plt.xticks([])\n",
    "    else:\n",
    "        plt.xticks(\n",
    "            x_array,\n",
    "            np.array(x_ticks)[order_x],\n",
    "            rotation=90,\n",
    "        )\n",
    "\n",
    "        if print_ordered_labels:\n",
    "            x_ticks_print = \"','\".join(np.array(x_ticks)[order_x])\n",
    "            print(f\"x_order: [{','.join(np.array(order_x).astype(str))}]\")\n",
    "            print(f\"x_ticks: ['{x_ticks_print}']\")\n",
    "\n",
    "    if y_ticks is None:\n",
    "        plt.yticks([])\n",
    "    else:\n",
    "        plt.yticks(\n",
    "            y_array,\n",
    "            np.array(y_ticks)[order_y],\n",
    "        )\n",
    "\n",
    "        if print_ordered_labels:\n",
    "            y_ticks_print = \"','\".join(np.array(y_ticks)[order_y])\n",
    "            print(f\"y_order: [{','.join(np.array(order_y).astype(str))}]\")\n",
    "            print(f\"y_ticks: ['{y_ticks_print}']\")\n",
    "\n",
    "    if x_label is not None:\n",
    "        ax.set_xlabel(x_label)\n",
    "\n",
    "    if y_label is not None:\n",
    "        ax.set_ylabel(y_label)\n",
    "\n",
    "    if color_bar:\n",
    "        norm = mpl_Normalize(vmin=vmin, vmax=vmax)\n",
    "        cbar = plt.colorbar(plt.cm.ScalarMappable(norm=norm, cmap=color_map))\n",
    "        cbar.set_label(f\"{color_bar_label}{label_}\", rotation=270, labelpad=20)\n",
    "    if ax_ is None:\n",
    "        plt.gcf().set_size_inches((fig_width, fig_height))\n",
    "    return ax\n",
    "\n",
    "def darken_cmap(cmap, scale_factor):\n",
    "    \"\"\"\n",
    "    Generate a gradient color map for plotting.\n",
    "    \"\"\"\n",
    "\n",
    "    cdat = np.zeros((cmap.N, 4))\n",
    "    for ii in range(cdat.shape[0]):\n",
    "        curcol = cmap(ii)\n",
    "        cdat[ii, 0] = curcol[0] * scale_factor\n",
    "        cdat[ii, 1] = curcol[1] * scale_factor\n",
    "        cdat[ii, 2] = curcol[2] * scale_factor\n",
    "        cdat[ii, 3] = 1\n",
    "    cmap = cmap.from_list(cmap.N, cdat)\n",
    "    return cmap\n",
    "color_map_reds = darken_cmap(plt.cm.Reds, scale_factor=0.9)\n",
    "color_map_coolwarm = darken_cmap(plt.cm.coolwarm, scale_factor=1)\n",
    "\n",
    "\"\"\"Settings\n",
    "\"\"\"\n",
    "\n",
    "verbosity = 3\n",
    "\"\"\"Verbosity level (0=errors, 1=warnings, 2=info, 3=hints)\n",
    "\"\"\"\n",
    "\n",
    "data_path = \"data\"\n",
    "\"\"\"Directory where adata is stored (default 'data_cospar').\n",
    "\"\"\"\n",
    "\n",
    "figure_path = \"figure\"\n",
    "\"\"\"Directory where plots are saved (default 'figure_cospar').\n",
    "\"\"\"\n",
    "\n",
    "file_format_figs = \"pdf\"\n",
    "\"\"\"File format for saving figures.\n",
    "For example 'png', 'pdf' or 'svg'. Many other formats work as well (see\n",
    "`matplotlib.pyplot.savefig`).\n",
    "\"\"\"\n",
    "\n",
    "fig_width = 4\n",
    "fig_height = 3.5\n",
    "fig_point_size = 2\n",
    "\n",
    "\n",
    "logfile = \"\"\n",
    "\"\"\"Name of logfile. By default is set to '' and writes to standard output.\"\"\"\n",
    "\n",
    "# --------------------------------------------------------------------------------\n",
    "# Functions\n",
    "# --------------------------------------------------------------------------------\n",
    "\n",
    "import warnings\n",
    "\n",
    "from cycler import cycler\n",
    "from matplotlib import cbook, cm, colors, rcParams\n",
    "\n",
    "# from cospar import help_functions as hf\n",
    "# from . import help_functions as hf\n",
    "\n",
    "warnings.filterwarnings(\"ignore\", category=cbook.mplDeprecation)\n",
    "\n",
    "\n",
    "def set_rcParams_cospar(fontsize=12, color_map=None, frameon=None):\n",
    "    \"\"\"Set matplotlib.rcParams to cospar defaults.\"\"\"\n",
    "    # check here if you want to customize it: https://matplotlib.org/stable/tutorials/introductory/customizing.html\n",
    "\n",
    "    # dpi options (mpl default: 100, 100)\n",
    "    rcParams[\"figure.dpi\"] = 100\n",
    "    rcParams[\"savefig.dpi\"] = 150\n",
    "\n",
    "    # figure (mpl default: 0.125, 0.96, 0.15, 0.91)\n",
    "    rcParams[\"figure.figsize\"] = (6, 4)\n",
    "    # rcParams[\"figure.subplot.left\"] = 0.18\n",
    "    # rcParams[\"figure.subplot.right\"] = 0.96\n",
    "    # rcParams[\"figure.subplot.bottom\"] = 0.15\n",
    "    # rcParams[\"figure.subplot.top\"] = 0.91\n",
    "\n",
    "    # lines (defaults:  1.5, 6, 1)\n",
    "    rcParams[\"lines.linewidth\"] = 1.5  # the line width of the frame\n",
    "    rcParams[\"lines.markersize\"] = 6\n",
    "    rcParams[\"lines.markeredgewidth\"] = 1\n",
    "\n",
    "    # font\n",
    "    rcParams[\"font.sans-serif\"] = [\n",
    "        \"Arial\",\n",
    "        \"Helvetica\",\n",
    "        \"DejaVu Sans\",\n",
    "        \"Bitstream Vera Sans\",\n",
    "        \"sans-serif\",\n",
    "    ]\n",
    "\n",
    "    fontsize = fontsize\n",
    "    labelsize = 0.92 * fontsize\n",
    "\n",
    "    # fonsizes (mpl default: 10, medium, large, medium)\n",
    "    rcParams[\"font.size\"] = fontsize\n",
    "    rcParams[\"legend.fontsize\"] = labelsize\n",
    "    rcParams[\"axes.titlesize\"] = fontsize\n",
    "    rcParams[\"axes.labelsize\"] = labelsize\n",
    "\n",
    "    # legend (mpl default: 1, 1, 2, 0.8)\n",
    "    rcParams[\"legend.numpoints\"] = 1\n",
    "    rcParams[\"legend.scatterpoints\"] = 1\n",
    "    rcParams[\"legend.handlelength\"] = 0.5\n",
    "    rcParams[\"legend.handletextpad\"] = 0.4\n",
    "    rcParams[\"pdf.fonttype\"] = 42\n",
    "\n",
    "    # color cycle\n",
    "    # rcParams[\"axes.prop_cycle\"] = cycler(color=vega_10)\n",
    "\n",
    "    # axes\n",
    "    rcParams[\"axes.linewidth\"] = 0.8\n",
    "    rcParams[\"axes.edgecolor\"] = \"black\"\n",
    "    rcParams[\"axes.facecolor\"] = \"white\"\n",
    "\n",
    "    # ticks (mpl default: k, k, medium, medium)\n",
    "    rcParams[\"xtick.color\"] = \"k\"\n",
    "    rcParams[\"ytick.color\"] = \"k\"\n",
    "    rcParams[\"xtick.labelsize\"] = labelsize\n",
    "    rcParams[\"ytick.labelsize\"] = labelsize\n",
    "\n",
    "    # axes grid (mpl default: False, #b0b0b0)\n",
    "    rcParams[\"axes.grid\"] = False\n",
    "    rcParams[\"grid.color\"] = \".8\"\n",
    "\n",
    "    # color map\n",
    "    rcParams[\"image.cmap\"] = \"Reds\" if color_map is None else color_map\n",
    "\n",
    "    # spines\n",
    "    rcParams[\"axes.spines.right\"] = False\n",
    "    rcParams[\"axes.spines.top\"] = False\n",
    "\n",
    "    # frame (mpl default: True)\n",
    "    frameon = False if frameon is None else frameon\n",
    "    global _frameon\n",
    "    _frameon = frameon\n",
    "\n",
    "\n",
    "# def set_up_plotting(fontsize):\n",
    "#     \"\"\"\n",
    "#     Change matplotlib setting for beautiful plots.\n",
    "#     \"\"\"\n",
    "\n",
    "#     plt.rc('font', family='sans-serif')\n",
    "#     plt.rcParams['font.sans-serif']=['Helvetica']\n",
    "#     plt.rc('xtick',labelsize=12) #14\n",
    "#     plt.rc('ytick', labelsize=12) #14\n",
    "#     #plt.rc('font', weight='bold')\n",
    "#     plt.rc('font', weight='regular')\n",
    "#     plt.rcParams.update({'font.size': fontsize}) #16\n",
    "#     #plt.rcParams['axes.labelweight'] = 'bold'\n",
    "#     plt.rcParams['axes.labelweight'] = 'regular'\n",
    "#     #plt.rcParams['pdf.fonttype'] = 42 #make the figure editable, this comes with a heavy cost of file size\n",
    "\n",
    "\n",
    "def set_figure_params(\n",
    "    style=\"cospar\",\n",
    "    dpi=100,\n",
    "    dpi_save=300,\n",
    "    frameon=None,\n",
    "    vector_friendly=True,\n",
    "    transparent=True,\n",
    "    fontsize=14,\n",
    "    figsize=None,\n",
    "    pointsize=2,\n",
    "    color_map=None,\n",
    "    facecolor=None,\n",
    "    format=\"pdf\",\n",
    "    ipython_format=\"png2x\",\n",
    "):\n",
    "    \"\"\"Set resolution/size, styling and format of figures.\n",
    "    Arguments\n",
    "    ---------\n",
    "    style : `str` (default: `None`)\n",
    "        Init default values for ``matplotlib.rcParams`` suited for `cospar`.\n",
    "        Use `None` for the default matplotlib values.\n",
    "    dpi : `int` (default: `None`)\n",
    "        Resolution of rendered figures - affects the size of figures in notebooks.\n",
    "    dpi_save : `int` (default: `None`)\n",
    "        Resolution of saved figures. This should typically be higher to achieve\n",
    "        publication quality.\n",
    "    frameon : `bool` (default: `None`)\n",
    "        Add frames and axes labels to scatter plots.\n",
    "    vector_friendly : `bool` (default: `True`)\n",
    "        Plot scatter plots using `png` backend even when exporting as `pdf` or `svg`.\n",
    "    transparent : `bool` (default: `True`)\n",
    "        Save figures with transparent back ground. Sets\n",
    "        `rcParams['savefig.transparent']`.\n",
    "    fontsize : `int` (default: 14)\n",
    "        Set the fontsize for several `rcParams` entries.\n",
    "    figsize: `[float, float]` (default: `None`)\n",
    "        Width and height for default figure size.\n",
    "    color_map : `str` (default: `None`)\n",
    "        Convenience method for setting the default color map.\n",
    "    facecolor : `str` (default: `None`)\n",
    "        Sets backgrounds `rcParams['figure.facecolor']`\n",
    "        and `rcParams['axes.facecolor']` to `facecolor`.\n",
    "    format : {'png', 'pdf', 'svg', etc.} (default: 'pdf')\n",
    "        This sets the default format for saving figures: `file_format_figs`.\n",
    "    ipython_format : list of `str` (default: 'png2x')\n",
    "        Only concerns the notebook/IPython environment; see\n",
    "        `IPython.core.display.set_matplotlib_formats` for more details.\n",
    "    \"\"\"\n",
    "    try:\n",
    "        import IPython\n",
    "\n",
    "        if isinstance(ipython_format, str):\n",
    "            ipython_format = [ipython_format]\n",
    "        IPython.display.set_matplotlib_formats(*ipython_format)\n",
    "    except:\n",
    "        pass\n",
    "\n",
    "    global _rcParams_style\n",
    "    _rcParams_style = style\n",
    "    global _vector_friendly\n",
    "    _vector_friendly = vector_friendly\n",
    "    global file_format_figs\n",
    "    file_format_figs = format\n",
    "    if transparent is not None:\n",
    "        rcParams[\"savefig.transparent\"] = transparent\n",
    "    if facecolor is not None:\n",
    "        rcParams[\"figure.facecolor\"] = facecolor\n",
    "        rcParams[\"axes.facecolor\"] = facecolor\n",
    "    if style == \"cospar\":\n",
    "        set_rcParams_cospar(fontsize=fontsize, color_map=color_map, frameon=frameon)\n",
    "    # Overwrite style options if given\n",
    "    if figsize is not None:\n",
    "        rcParams[\"figure.figsize\"] = figsize\n",
    "        global fig_width\n",
    "        global fig_height\n",
    "        fig_width = figsize[0]\n",
    "        fig_height = figsize[1]\n",
    "    if dpi is not None:\n",
    "        rcParams[\"figure.dpi\"] = dpi\n",
    "    if dpi_save is not None:\n",
    "        rcParams[\"savefig.dpi\"] = dpi_save\n",
    "\n",
    "    global fig_point_size\n",
    "    fig_point_size = pointsize\n",
    "\n",
    "    # hf.set_up_folders()\n",
    "\n",
    "\n",
    "def set_rcParams_defaults():\n",
    "    \"\"\"Reset `matplotlib.rcParams` to defaults.\"\"\"\n",
    "    from matplotlib import rcParamsDefault\n",
    "\n",
    "    rcParams.update(rcParamsDefault)\n",
    "\n",
    "\n",
    "def _set_start_time():\n",
    "    from time import time\n",
    "\n",
    "    return time()\n",
    "\n",
    "\n",
    "_start = _set_start_time()\n",
    "\"\"\"Time when the settings module is first imported.\"\"\"\n",
    "\n",
    "_previous_time = _start\n",
    "\"\"\"Variable for timing program parts.\"\"\"\n",
    "def parse_output_choices(adata, key_word, where=\"obs\", interrupt=True):\n",
    "    if where == \"obs\":\n",
    "        raw_choices = [xx for xx in adata.obs.keys() if xx.startswith(f\"{key_word}\")]\n",
    "    else:\n",
    "        raw_choices = [xx for xx in adata.uns.keys() if xx.startswith(f\"{key_word}\")]\n",
    "\n",
    "    if (interrupt) and (len(raw_choices) == 0):\n",
    "        raise ValueError(\n",
    "            f\"{key_word} has not been computed yet. Please run the counterpart function at cs.tl.XXX using the appropriate source name.\"\n",
    "        )\n",
    "\n",
    "    available_choices = []\n",
    "    for xx in raw_choices:\n",
    "        y = xx.split(f\"{key_word}\")[1]\n",
    "        if y.startswith(\"_\"):\n",
    "            y = y[1:]\n",
    "        available_choices.append(y)\n",
    "\n",
    "    return available_choices\n",
    "def rename_list(old_names, new_names):\n",
    "    if new_names is None:\n",
    "        new_names = old_names\n",
    "\n",
    "    if len(old_names) != len(new_names):\n",
    "        logg.warn(\n",
    "            \"The new name list does not have the same length as old name list. Rename operation aborted\"\n",
    "        )\n",
    "        new_names = old_names\n",
    "    return new_names\n",
    "\n",
    "from scipy.cluster import hierarchy\n",
    "import os\n",
    "\n",
    "def fate_coupling(\n",
    "    adata,\n",
    "    source=\"transition_map\",\n",
    "    color_bar=True,\n",
    "    rename_fates=None,\n",
    "    color_map=color_map_reds,\n",
    "    figure_index=\"\",\n",
    "    color_bar_label=\"Fate coupling\",\n",
    "    title=None,\n",
    "    vmax=None,\n",
    "    fig_width = 4,\n",
    "    fig_height = 3.5,\n",
    "    fig_point_size = 2,\n",
    "    specific_order = [],\n",
    "    **kwargs,\n",
    "):\n",
    "    \"\"\"\n",
    "    Plot fate coupling determined by the transition map.\n",
    "    The results should be pre-computed from :func:`cospar.tl.fate_coupling`\n",
    "    Parameters\n",
    "    ----------\n",
    "    adata: :class:`~anndata.AnnData` object\n",
    "        Assume to contain transition maps at adata.uns.\n",
    "    {source}\n",
    "    {color_bar}\n",
    "    {rename_fates}\n",
    "    {color_map}\n",
    "    {figure_index}\n",
    "    Returns\n",
    "    -------\n",
    "    ax:\n",
    "        The axis object of this plot.\n",
    "    \"\"\"\n",
    "\n",
    "    \n",
    "\n",
    "    data_des = adata.uns[\"data_des\"][-1]\n",
    "\n",
    "    if color_bar:\n",
    "        fig_width = fig_width + 0.5\n",
    "\n",
    "    key_word = f\"fate_coupling_{source}\"\n",
    "    available_choices = parse_output_choices(adata, key_word, where=\"uns\")\n",
    "    X_coupling = adata.uns[key_word][\"X_coupling\"]\n",
    "    fate_names = adata.uns[key_word][\"fate_names\"]\n",
    "    rename_fates = rename_list(fate_names, rename_fates)\n",
    "\n",
    "    if \"x_ticks\" not in kwargs.keys():\n",
    "        kwargs[\"x_ticks\"] = rename_fates\n",
    "    if \"y_ticks\" not in kwargs.keys():\n",
    "        kwargs[\"y_ticks\"] = rename_fates\n",
    "\n",
    "    if vmax is None:\n",
    "        # vmax = (\n",
    "        #     np.percentile(X_coupling - np.diag(np.diag(X_coupling)), 95)\n",
    "        #     + np.percentile(X_coupling - np.diag(np.diag(X_coupling)), 98)\n",
    "        # ) / 2\n",
    "        vmax = np.max(X_coupling - np.diag(np.diag(X_coupling)))\n",
    "\n",
    "    ax = heatmap(\n",
    "        X_coupling,\n",
    "        order_map_x=False,\n",
    "        order_map_y=False,\n",
    "        specific_order=specific_order,\n",
    "        color_bar_label=color_bar_label,\n",
    "        color_bar=color_bar,\n",
    "        fig_width=fig_width,\n",
    "        fig_height=fig_height,\n",
    "        color_map=color_map,\n",
    "        vmax=vmax,\n",
    "        **kwargs,\n",
    "    )\n",
    "\n",
    "    plt.tight_layout()\n",
    "    if title is None:\n",
    "        ax.set_title(f\"source: {source}\")\n",
    "    else:\n",
    "        ax.set_title(title)\n",
    "\n",
    "    if figure_index != \"\":\n",
    "        figure_index == f\"_{figure_index}\"\n",
    "    plt.savefig(\n",
    "        os.path.join(\n",
    "            figure_path,\n",
    "            f\"{data_des}_{key_word}{figure_index}.{file_format_figs}\",\n",
    "        )\n",
    "    )\n",
    "    return ax\n"
   ]
  },
  {
   "cell_type": "code",
   "execution_count": 99,
   "id": "492fa517",
   "metadata": {},
   "outputs": [
    {
     "data": {
      "image/png": "[encoded data removed]",
      "text/plain": [
       "<Figure size 450x350 with 2 Axes>"
      ]
     },
     "metadata": {},
     "output_type": "display_data"
    }
   ],
   "source": [
    "ax = fate_coupling(adata_cospar, source=\"X_clone\", specific_order=order_idx)\n",
    "plt.savefig('figures/Fig2J.pdf')\n",
    "plt.show()"
   ]
  }
 ],
 "metadata": {
  "kernelspec": {
   "display_name": "Python 3 (ipykernel)",
   "language": "python",
   "name": "python3"
  },
  "language_info": {
   "codemirror_mode": {
    "name": "ipython",
    "version": 3
   },
   "file_extension": ".py",
   "mimetype": "text/x-python",
   "name": "python",
   "nbconvert_exporter": "python",
   "pygments_lexer": "ipython3",
   "version": "3.7.7"
  }
 },
 "nbformat": 4,
 "nbformat_minor": 5
}
