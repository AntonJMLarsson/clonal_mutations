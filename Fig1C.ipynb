{
 "cells": [
  {
   "cell_type": "code",
   "execution_count": 1,
   "id": "9cb42c46",
   "metadata": {},
   "outputs": [],
   "source": [
    "import pysam\n",
    "import vcf\n",
    "from joblib import delayed,Parallel"
   ]
  },
  {
   "cell_type": "code",
   "execution_count": 2,
   "id": "51bc41d6",
   "metadata": {},
   "outputs": [],
   "source": [
    "import numpy as np"
   ]
  },
  {
   "cell_type": "code",
   "execution_count": 3,
   "id": "48859e6d",
   "metadata": {},
   "outputs": [],
   "source": [
    "from collections import Counter"
   ]
  },
  {
   "cell_type": "code",
   "execution_count": 4,
   "id": "9ebbadd0",
   "metadata": {},
   "outputs": [],
   "source": [
    "import seaborn as sns"
   ]
  },
  {
   "cell_type": "code",
   "execution_count": 5,
   "id": "6f2bf2fd",
   "metadata": {},
   "outputs": [],
   "source": [
    "import matplotlib.pyplot as plt"
   ]
  },
  {
   "cell_type": "code",
   "execution_count": 6,
   "id": "13c9ec2a",
   "metadata": {},
   "outputs": [],
   "source": [
    "def get_allele_counts_per_cell(bamfile, variant, cell_set):\n",
    "    bam = pysam.AlignmentFile(bamfile, 'r')\n",
    "    ref_counter = {}\n",
    "    alt_counter = {}\n",
    "    variant_pos = variant.POS-1\n",
    "    name = '{}:{}_{}>{}'.format(variant.CHROM, variant.POS, variant.REF, variant.ALT[0])\n",
    "    for read in bam.fetch(variant.CHROM, variant.POS-10,variant.POS+10):\n",
    "        cell = read.get_tag('BC')\n",
    "        if cell not in cell_set:\n",
    "            continue\n",
    "        reference_positions = read.get_reference_positions()\n",
    "        read_sequence = read.query_alignment_sequence\n",
    "        pos_to_base_dict = {pos:base for pos,base in zip(reference_positions, read_sequence)}\n",
    "        if variant_pos in pos_to_base_dict:\n",
    "            if pos_to_base_dict[variant_pos] == variant.REF:\n",
    "                if cell in ref_counter:\n",
    "                    ref_counter[cell] += 1\n",
    "                else:\n",
    "                    ref_counter.update({cell:1})\n",
    "            elif pos_to_base_dict[variant_pos] == variant.ALT[0]:\n",
    "                if cell in alt_counter:\n",
    "                    alt_counter[cell] += 1\n",
    "                else:\n",
    "                    alt_counter.update({cell:1})\n",
    "    bam.close()\n",
    "    return name, ref_counter, alt_counter"
   ]
  },
  {
   "cell_type": "code",
   "execution_count": 7,
   "id": "dc9dd97c",
   "metadata": {},
   "outputs": [],
   "source": [
    "import pandas as pd"
   ]
  },
  {
   "cell_type": "code",
   "execution_count": 89,
   "id": "27010c31",
   "metadata": {},
   "outputs": [],
   "source": [
    "#bamfile = '/home/antonl/projects/XAlgo/F1_Fibro/Fibro_plate3.chrX.sorted.bam'\n",
    "bamfile = '/home/michaelhj/projects/smartseq3/Smartseq2_Fibroblasts_Anton_rerun/zUMIs/Smartseq3_Fibroblasts.filtered.Aligned.GeneTagged.UBcorrected.sorted.bam'\n",
    "vcffile = '/home/chrisz/resources/genomes/Mouse/CAST.SNPs.validated.passedFiltering.vcf.gz'"
   ]
  },
  {
   "cell_type": "code",
   "execution_count": 47,
   "id": "592cd642",
   "metadata": {},
   "outputs": [],
   "source": [
    "#cell_file = '/home/chrisz/proj/DNBseq_evaluation/plate3_expected_bcs.txt'\n",
    "cell_file = '/home/michaelhj/projects/smartseq3/Smartseq2_Fibroblasts_Anton_rerun/expected_barcodes.txt'"
   ]
  },
  {
   "cell_type": "code",
   "execution_count": 48,
   "id": "e085f1af",
   "metadata": {},
   "outputs": [],
   "source": [
    "cell_set = set([cell.rstrip('\\n') for cell in open(cell_file, 'r')])"
   ]
  },
  {
   "cell_type": "code",
   "execution_count": 90,
   "id": "b1f3a9c4",
   "metadata": {},
   "outputs": [],
   "source": [
    "vcf_reader = vcf.Reader(filename=vcffile)"
   ]
  },
  {
   "cell_type": "code",
   "execution_count": 91,
   "id": "14a5de13",
   "metadata": {},
   "outputs": [],
   "source": [
    "variant_list = []\n",
    "for variant in vcf_reader.fetch('chrX'):\n",
    "    variant_list.append(variant)"
   ]
  },
  {
   "cell_type": "code",
   "execution_count": 93,
   "id": "00da8a94",
   "metadata": {},
   "outputs": [],
   "source": [
    "for i,variant in enumerate(variant_list):\n",
    "    if variant.POS == 5206611:\n",
    "        print(i,variant)"
   ]
  },
  {
   "cell_type": "code",
   "execution_count": 94,
   "id": "bd10c15c",
   "metadata": {},
   "outputs": [
    {
     "data": {
      "text/plain": [
       "40048"
      ]
     },
     "execution_count": 94,
     "metadata": {},
     "output_type": "execute_result"
    }
   ],
   "source": [
    "len(variant_list)"
   ]
  },
  {
   "cell_type": "code",
   "execution_count": 95,
   "id": "d2591ac5",
   "metadata": {},
   "outputs": [],
   "source": [
    "variant_dict = {'{}:{}_{}>{}'.format(variant.CHROM, variant.POS, variant.REF, variant.ALT[0]): variant for variant in variant_list}"
   ]
  },
  {
   "cell_type": "code",
   "execution_count": 96,
   "id": "b3ec738f",
   "metadata": {
    "scrolled": true
   },
   "outputs": [
    {
     "name": "stderr",
     "output_type": "stream",
     "text": [
      "[Parallel(n_jobs=40)]: Using backend LokyBackend with 40 concurrent workers.\n",
      "[Parallel(n_jobs=40)]: Done  49 tasks      | elapsed:    7.4s\n",
      "[Parallel(n_jobs=40)]: Done 209 tasks      | elapsed:    7.9s\n",
      "[Parallel(n_jobs=40)]: Done 433 tasks      | elapsed:    8.6s\n",
      "[Parallel(n_jobs=40)]: Done 721 tasks      | elapsed:    9.5s\n",
      "[Parallel(n_jobs=40)]: Done 1073 tasks      | elapsed:   10.7s\n",
      "[Parallel(n_jobs=40)]: Done 1489 tasks      | elapsed:   12.0s\n",
      "[Parallel(n_jobs=40)]: Done 1969 tasks      | elapsed:   13.5s\n",
      "[Parallel(n_jobs=40)]: Done 2513 tasks      | elapsed:   15.2s\n",
      "[Parallel(n_jobs=40)]: Done 3121 tasks      | elapsed:   17.1s\n",
      "[Parallel(n_jobs=40)]: Done 3793 tasks      | elapsed:   19.3s\n",
      "[Parallel(n_jobs=40)]: Done 4529 tasks      | elapsed:   21.8s\n",
      "[Parallel(n_jobs=40)]: Done 5329 tasks      | elapsed:   24.4s\n",
      "[Parallel(n_jobs=40)]: Done 6193 tasks      | elapsed:   27.3s\n",
      "[Parallel(n_jobs=40)]: Done 7402 tasks      | elapsed:   30.3s\n",
      "[Parallel(n_jobs=40)]: Done 9386 tasks      | elapsed:   33.7s\n",
      "[Parallel(n_jobs=40)]: Done 11498 tasks      | elapsed:   37.5s\n",
      "[Parallel(n_jobs=40)]: Done 13738 tasks      | elapsed:   41.3s\n",
      "[Parallel(n_jobs=40)]: Done 16892 tasks      | elapsed:   46.1s\n",
      "[Parallel(n_jobs=40)]: Done 21884 tasks      | elapsed:   51.2s\n",
      "[Parallel(n_jobs=40)]: Done 28224 tasks      | elapsed:   57.2s\n",
      "[Parallel(n_jobs=40)]: Done 39232 tasks      | elapsed:  1.1min\n",
      "[Parallel(n_jobs=40)]: Done 39969 out of 40048 | elapsed:  1.1min remaining:    0.1s\n",
      "[Parallel(n_jobs=40)]: Done 40048 out of 40048 | elapsed:  1.3min finished\n"
     ]
    }
   ],
   "source": [
    "res = Parallel(n_jobs=40, verbose=3)(delayed(get_allele_counts_per_cell)(bamfile, variant, cell_set) for variant in variant_list)"
   ]
  },
  {
   "cell_type": "code",
   "execution_count": 97,
   "id": "07a7a3c1",
   "metadata": {},
   "outputs": [],
   "source": [
    "variant_counts = {r[0]: (r[1], r[2]) for r in res if len(r[1]) != 0 and len(r[2]) != 0}"
   ]
  },
  {
   "cell_type": "code",
   "execution_count": null,
   "id": "4938556f",
   "metadata": {},
   "outputs": [],
   "source": [
    "#old code please ignore\n",
    "#variant_counts = {}\n",
    "#for i, variant in enumerate(variant_list): \n",
    "#    res = get_allele_counts_per_cell(bamfile, variant, cell_set)\n",
    "#    if len(res[1]) == 0 and len(res[2]) == 0:\n",
    "#        continue\n",
    "#    variant_counts[res[0]] = (res[1], res[2])"
   ]
  },
  {
   "cell_type": "code",
   "execution_count": 98,
   "id": "d79b198f",
   "metadata": {},
   "outputs": [],
   "source": [
    "variant_counts_both_alleles_detected = {}\n",
    "for var_name, tup in variant_counts.items():\n",
    "    if len(tup[0]) > 0 and len(tup[1]) > 0:\n",
    "        variant_counts_both_alleles_detected[var_name] = tup"
   ]
  },
  {
   "cell_type": "code",
   "execution_count": 99,
   "id": "1a0eaf70",
   "metadata": {},
   "outputs": [],
   "source": [
    "alt_counter = Counter()\n",
    "ref_counter = Counter()\n",
    "for var_name, tup in variant_counts_both_alleles_detected.items():\n",
    "    ref_counter.update(tup[0])\n",
    "    alt_counter.update(tup[1])"
   ]
  },
  {
   "cell_type": "code",
   "execution_count": 100,
   "id": "e2de9163",
   "metadata": {},
   "outputs": [],
   "source": [
    "ref_count_df = pd.DataFrame.from_dict({k:t[0] for k,t in variant_counts_both_alleles_detected.items()}, orient='index')"
   ]
  },
  {
   "cell_type": "code",
   "execution_count": 101,
   "id": "c49ae6a8",
   "metadata": {},
   "outputs": [],
   "source": [
    "alt_count_df = pd.DataFrame.from_dict({k:t[1] for k,t in variant_counts_both_alleles_detected.items()}, orient='index')"
   ]
  },
  {
   "cell_type": "code",
   "execution_count": 102,
   "id": "2b8d2fdf",
   "metadata": {},
   "outputs": [],
   "source": [
    "ref_count_df = ref_count_df.fillna(0)"
   ]
  },
  {
   "cell_type": "code",
   "execution_count": 103,
   "id": "40c235a8",
   "metadata": {},
   "outputs": [],
   "source": [
    "alt_count_df = alt_count_df.fillna(0)"
   ]
  },
  {
   "cell_type": "code",
   "execution_count": 106,
   "id": "bb20b047",
   "metadata": {},
   "outputs": [],
   "source": [
    "df_test = pd.DataFrame([ref_counter, alt_counter], index=['ref', 'alt']).T.fillna(0)"
   ]
  },
  {
   "cell_type": "code",
   "execution_count": 123,
   "id": "3d7e154f",
   "metadata": {},
   "outputs": [],
   "source": [
    "vireo_df = pd.read_csv('/home/antonl/projects/XAlgo/F1_Fibro_from_SS3_paper/vireo_out/donor_ids.tsv', sep='\\t', index_col=0)"
   ]
  },
  {
   "cell_type": "code",
   "execution_count": 125,
   "id": "19c32673",
   "metadata": {},
   "outputs": [
    {
     "data": {
      "text/html": [
       "<div>\n",
       "<style scoped>\n",
       "    .dataframe tbody tr th:only-of-type {\n",
       "        vertical-align: middle;\n",
       "    }\n",
       "\n",
       "    .dataframe tbody tr th {\n",
       "        vertical-align: top;\n",
       "    }\n",
       "\n",
       "    .dataframe thead th {\n",
       "        text-align: right;\n",
       "    }\n",
       "</style>\n",
       "<table border=\"1\" class=\"dataframe\">\n",
       "  <thead>\n",
       "    <tr style=\"text-align: right;\">\n",
       "      <th></th>\n",
       "      <th>prob_max</th>\n",
       "      <th>prob_doublet</th>\n",
       "      <th>n_vars</th>\n",
       "      <th>best_singlet</th>\n",
       "      <th>best_doublet</th>\n",
       "      <th>doublet_logLikRatio</th>\n",
       "    </tr>\n",
       "    <tr>\n",
       "      <th>donor_id</th>\n",
       "      <th></th>\n",
       "      <th></th>\n",
       "      <th></th>\n",
       "      <th></th>\n",
       "      <th></th>\n",
       "      <th></th>\n",
       "    </tr>\n",
       "  </thead>\n",
       "  <tbody>\n",
       "    <tr>\n",
       "      <th>donor0</th>\n",
       "      <td>53</td>\n",
       "      <td>53</td>\n",
       "      <td>53</td>\n",
       "      <td>53</td>\n",
       "      <td>53</td>\n",
       "      <td>53</td>\n",
       "    </tr>\n",
       "    <tr>\n",
       "      <th>donor1</th>\n",
       "      <td>188</td>\n",
       "      <td>188</td>\n",
       "      <td>188</td>\n",
       "      <td>188</td>\n",
       "      <td>188</td>\n",
       "      <td>188</td>\n",
       "    </tr>\n",
       "    <tr>\n",
       "      <th>unassigned</th>\n",
       "      <td>46</td>\n",
       "      <td>46</td>\n",
       "      <td>46</td>\n",
       "      <td>46</td>\n",
       "      <td>46</td>\n",
       "      <td>46</td>\n",
       "    </tr>\n",
       "  </tbody>\n",
       "</table>\n",
       "</div>"
      ],
      "text/plain": [
       "            prob_max  prob_doublet  n_vars  best_singlet  best_doublet  \\\n",
       "donor_id                                                                 \n",
       "donor0            53            53      53            53            53   \n",
       "donor1           188           188     188           188           188   \n",
       "unassigned        46            46      46            46            46   \n",
       "\n",
       "            doublet_logLikRatio  \n",
       "donor_id                         \n",
       "donor0                       53  \n",
       "donor1                      188  \n",
       "unassigned                   46  "
      ]
     },
     "execution_count": 125,
     "metadata": {},
     "output_type": "execute_result"
    }
   ],
   "source": [
    "vireo_df.groupby('donor_id').count()"
   ]
  },
  {
   "cell_type": "code",
   "execution_count": 126,
   "id": "efcea096",
   "metadata": {},
   "outputs": [],
   "source": [
    "df_test = df_test.join(vireo_df['donor_id'])"
   ]
  },
  {
   "cell_type": "code",
   "execution_count": 127,
   "id": "b92802bd",
   "metadata": {},
   "outputs": [],
   "source": [
    "df_test = df_test.join(vireo_df['n_vars'])"
   ]
  },
  {
   "cell_type": "code",
   "execution_count": 129,
   "id": "5520024a",
   "metadata": {},
   "outputs": [],
   "source": [
    "df_test['total'] = df_test['ref']+df_test['alt']"
   ]
  },
  {
   "cell_type": "code",
   "execution_count": 130,
   "id": "b688acce",
   "metadata": {},
   "outputs": [],
   "source": [
    "df_test['fraction_ref'] = df_test['ref']/df_test['total']"
   ]
  },
  {
   "cell_type": "code",
   "execution_count": 161,
   "id": "cf522f4a",
   "metadata": {},
   "outputs": [
    {
     "data": {
      "image/png": "[encoded data removed]",
      "text/plain": [
       "<Figure size 640x480 with 1 Axes>"
      ]
     },
     "metadata": {},
     "output_type": "display_data"
    }
   ],
   "source": [
    "fig, ax = plt.subplots(1,1)\n",
    "g = sns.scatterplot(data=df_test, x='n_vars', hue='donor_id',y='fraction_ref', s=6,ax=ax, linewidth=0)\n",
    "ax.legend(title='Predicted XCI status', loc='best', labels=['','Allele 1', 'Allele 2','Unassigned'])\n",
    "ax.axvline(50, linestyle='dashed', color='black')\n",
    "ax.set_xscale('log')\n",
    "ax.set_title('F1 CAST/EiJ x C57/BL6 Fibroblasts')\n",
    "ax.set_xlabel('Number of observed variants')\n",
    "ax.set_ylabel('Fraction C57 reads')\n",
    "ax.set_box_aspect(1)\n",
    "plt.tight_layout()\n",
    "plt.savefig('figures/Fig1C.pdf')\n",
    "plt.show()"
   ]
  }
 ],
 "metadata": {
  "kernelspec": {
   "display_name": "Python 3 (ipykernel)",
   "language": "python",
   "name": "python3"
  },
  "language_info": {
   "codemirror_mode": {
    "name": "ipython",
    "version": 3
   },
   "file_extension": ".py",
   "mimetype": "text/x-python",
   "name": "python",
   "nbconvert_exporter": "python",
   "pygments_lexer": "ipython3",
   "version": "3.7.7"
  }
 },
 "nbformat": 4,
 "nbformat_minor": 5
}
